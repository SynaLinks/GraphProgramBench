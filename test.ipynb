{
 "cells": [
  {
   "cell_type": "code",
   "execution_count": 9,
   "metadata": {},
   "outputs": [],
   "source": [
    "import numpy as np\n",
    "\n",
    "def blue_color_pick(nb):\n",
    "    start = np.array([170, 200, 230])\n",
    "    end = [30, 60, 90]\n",
    "    spread = start[0] - end[0]\n",
    "    interval_size = spread/nb\n",
    "    colors = []\n",
    "    for i in range(nb):\n",
    "        colors.append(start - (i+1)*interval_size)\n",
    "\n",
    "    return colors"
   ]
  },
  {
   "cell_type": "code",
   "execution_count": 10,
   "metadata": {},
   "outputs": [
    {
     "data": {
      "text/plain": [
       "[array([152.5, 182.5, 212.5]),\n",
       " array([135., 165., 195.]),\n",
       " array([117.5, 147.5, 177.5]),\n",
       " array([100., 130., 160.]),\n",
       " array([ 82.5, 112.5, 142.5]),\n",
       " array([ 65.,  95., 125.]),\n",
       " array([ 47.5,  77.5, 107.5]),\n",
       " array([30., 60., 90.])]"
      ]
     },
     "execution_count": 10,
     "metadata": {},
     "output_type": "execute_result"
    }
   ],
   "source": [
    "blue_color_pick(8)"
   ]
  },
  {
   "cell_type": "code",
   "execution_count": null,
   "metadata": {},
   "outputs": [],
   "source": []
  }
 ],
 "metadata": {
  "kernelspec": {
   "display_name": "hybridagi",
   "language": "python",
   "name": "python3"
  },
  "language_info": {
   "codemirror_mode": {
    "name": "ipython",
    "version": 3
   },
   "file_extension": ".py",
   "mimetype": "text/x-python",
   "name": "python",
   "nbconvert_exporter": "python",
   "pygments_lexer": "ipython3",
   "version": "3.11.8"
  }
 },
 "nbformat": 4,
 "nbformat_minor": 2
}
